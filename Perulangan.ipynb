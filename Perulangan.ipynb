{
 "cells": [
  {
   "cell_type": "code",
   "execution_count": 4,
   "id": "eacda9eb",
   "metadata": {},
   "outputs": [
    {
     "name": "stdout",
     "output_type": "stream",
     "text": [
      "1 2 3 4 5 6 7 8 9 10 "
     ]
    }
   ],
   "source": [
    "#mencetak angka 1-10\n",
    "for i in range(1, 11):\n",
    "    print(i, end=\" \")"
   ]
  },
  {
   "cell_type": "code",
   "execution_count": 15,
   "id": "0b1f52e0",
   "metadata": {},
   "outputs": [
    {
     "name": "stdout",
     "output_type": "stream",
     "text": [
      "10 20 30 40 50 60 70 80 90 100 "
     ]
    }
   ],
   "source": [
    "#Mencetak angka 10 20 30 --- 100\n",
    "\n",
    "for i in range(1, 11):\n",
    "    print(i * 10, end=\" \")"
   ]
  },
  {
   "cell_type": "code",
   "execution_count": 24,
   "id": "e5fa9af5",
   "metadata": {
    "scrolled": false
   },
   "outputs": [
    {
     "name": "stdout",
     "output_type": "stream",
     "text": [
      "10 20 30 40 50 60 70 80 90 100 "
     ]
    }
   ],
   "source": [
    "#Mencetak angka 10 20 30 --- 100\n",
    "\n",
    "for i in range(10, 101, 10):\n",
    "    print(i, end=\" \")"
   ]
  },
  {
   "cell_type": "code",
   "execution_count": 9,
   "id": "0fbe569e",
   "metadata": {},
   "outputs": [
    {
     "name": "stdout",
     "output_type": "stream",
     "text": [
      "10 9 8 7 6 5 4 3 2 1 "
     ]
    }
   ],
   "source": [
    "#Mencetak angka 10, 9, 8, 7, ... 1\n",
    "for i in range(1, 11):\n",
    "    print(11 - i, end = \" \")"
   ]
  },
  {
   "cell_type": "code",
   "execution_count": 10,
   "id": "42db3672",
   "metadata": {},
   "outputs": [
    {
     "name": "stdout",
     "output_type": "stream",
     "text": [
      "10 9 8 7 6 5 4 3 2 1 "
     ]
    }
   ],
   "source": [
    "for i in range(10, 0, -1):\n",
    "    print(i, end = \" \")"
   ]
  },
  {
   "cell_type": "code",
   "execution_count": 37,
   "id": "ee176a35",
   "metadata": {},
   "outputs": [
    {
     "name": "stdout",
     "output_type": "stream",
     "text": [
      "1 -2 3 -4 5 -6 7 -8 9 -10 "
     ]
    }
   ],
   "source": [
    "#Mencetak angka 1 -2 3 -4 5 -6 .. 10\n",
    "sign = 1\n",
    "for i in range(1, 11):\n",
    "    print(sign * i, end = \" \")\n",
    "    sign *= -1"
   ]
  },
  {
   "cell_type": "code",
   "execution_count": 64,
   "id": "c49b1c1b",
   "metadata": {},
   "outputs": [
    {
     "name": "stdout",
     "output_type": "stream",
     "text": [
      "Isikan bilangan : 9\n",
      "9! adalah 362880\n",
      "9 * 8 * 7 * 6 * 5 * 4 * 3 * 2 * 1 = 362880\n"
     ]
    }
   ],
   "source": [
    "#Mencari bilangan faktorial\n",
    "#input = 3, output = 3 * 2 * 1 = 6\n",
    "#input = 4, output = 4 * 3 * 2 * 1 = 24\n",
    "\n",
    "\n",
    "bil = int(input(\"Isikan bilangan : \"))\n",
    "hasil = 1\n",
    "label = \"\"\n",
    "for i in range(1, bil+1):\n",
    "    hasil *= i\n",
    "    if i < bil : \n",
    "        label = label + str((bil +1)-i) + \" * \" \n",
    "    else :\n",
    "        label = label + str((bil+1)-i)\n",
    "print(f\"{bil}! adalah {hasil}\")    \n",
    "print(f\"{label} = {hasil}\")    "
   ]
  },
  {
   "cell_type": "code",
   "execution_count": 83,
   "id": "2ee82259",
   "metadata": {},
   "outputs": [
    {
     "name": "stdout",
     "output_type": "stream",
     "text": [
      "Isikan bilangan : 4\n",
      "Isikan pangkat : 3\n",
      "4 pangkat 3 adalah 64\n",
      "4 * 4 * 4 = 64\n"
     ]
    }
   ],
   "source": [
    "# mencari bilangan pangkat\n",
    "\n",
    "bil = int(input(\"Isikan bilangan : \"))\n",
    "pangkat = int(input(\"Isikan pangkat : \"))\n",
    "label = \"\"\n",
    "hasil = 1\n",
    "for i in range(1, pangkat+1):\n",
    "    hasil *= bil\n",
    "    if i < pangkat:\n",
    "        label = label + str(bil) + \" * \"\n",
    "    else : \n",
    "        label = label + str(bil)\n",
    "print(f\"{bil} pangkat {pangkat} adalah {hasil}\")\n",
    "print(f\"{label} = {hasil}\")"
   ]
  },
  {
   "cell_type": "code",
   "execution_count": 5,
   "id": "46fd9216",
   "metadata": {},
   "outputs": [
    {
     "name": "stdout",
     "output_type": "stream",
     "text": [
      "Isikan bilangan : 4\n",
      "Sisa = 3, maka Bukan bilangan prima\n"
     ]
    }
   ],
   "source": [
    "#mengecek Bilangan prima atau bukan\n",
    "#Bilangan prima adalah bilangan yang\n",
    "#hanya habis dibagi dengan 1 dan bilangan itu sendiri\n",
    "\n",
    "kondisi = \"\"\n",
    "jumlah = 0\n",
    "bil = int(input(\"Isikan bilangan : \"))\n",
    "for i in range (1, bil + 1):\n",
    "    sisa = bil % i\n",
    "    if sisa == 0:\n",
    "        jumlah += 1\n",
    "if jumlah == 2:\n",
    "    kondisi = \"Bilangan prima\"\n",
    "else:\n",
    "    kondisi = \"Bukan bilangan prima\"\n",
    "print(f\"Sisa = {jumlah}, maka {kondisi}\")"
   ]
  },
  {
   "cell_type": "code",
   "execution_count": 9,
   "id": "2ada504e",
   "metadata": {},
   "outputs": [
    {
     "name": "stdout",
     "output_type": "stream",
     "text": [
      "Isikan bilangan : 7\n",
      "Sisa = 0, maka Bilangan prima\n"
     ]
    }
   ],
   "source": [
    "kondisi = \"Bilangan prima\"\n",
    "jumlah = 0\n",
    "bil = int(input(\"Isikan bilangan : \"))\n",
    "for i in range (2, bil):\n",
    "    sisa = bil % i\n",
    "    if sisa == 0:\n",
    "        kondisi = \"Bukan bilangan prima\"\n",
    "        break\n",
    "\n",
    "print(f\"Sisa = {jumlah}, maka {kondisi}\")"
   ]
  },
  {
   "cell_type": "code",
   "execution_count": 18,
   "id": "bdcc8f4b",
   "metadata": {},
   "outputs": [
    {
     "name": "stdout",
     "output_type": "stream",
     "text": [
      "1 2 3 4 5 \n",
      "1 2 3 4 6 7 8 9 "
     ]
    }
   ],
   "source": [
    "#break \n",
    "\n",
    "for i in range(1, 100):\n",
    "    print(i, end=\" \")\n",
    "    if i == 5:\n",
    "        break\n",
    "print()        \n",
    "for j in range (1, 10):\n",
    "    if j == 5:\n",
    "        continue\n",
    "    print(j, end = \" \")    "
   ]
  },
  {
   "cell_type": "code",
   "execution_count": 5,
   "id": "5c19480f",
   "metadata": {},
   "outputs": [
    {
     "name": "stdout",
     "output_type": "stream",
     "text": [
      "Isikan kalimat : testing testing\n",
      "Jumlah huruf a : 0\n",
      "Jumlah huruf i : 2\n",
      "Jumlah huruf u : 0\n",
      "Jumlah huruf e : 2\n",
      "Jumlah huruf o : 0\n",
      "Total keseluruhan huruf vokal : 4\n"
     ]
    }
   ],
   "source": [
    "#Looping untuk string, mengitung huruf vokal a=?, i=?, u=?, e=?, o=?\n",
    "kalimat  = input(\"Isikan kalimat : \")\n",
    "\n",
    "vokal_a = 0\n",
    "vokal_i = 0\n",
    "vokal_u = 0\n",
    "vokal_e = 0\n",
    "vokal_o = 0\n",
    "\n",
    "\n",
    "for i in kalimat:\n",
    "    if i == 'a':\n",
    "        vokal_a += 1\n",
    "    elif i == 'i':\n",
    "        vokal_i += 1\n",
    "    elif i == 'u':\n",
    "        vokal_u += 1\n",
    "    elif i == 'e':\n",
    "        vokal_e += 1\n",
    "    elif i == 'o':\n",
    "        vokal_o += 1\n",
    "print(f\"Jumlah huruf a : {vokal_a}\")        \n",
    "print(f\"Jumlah huruf i : {vokal_i}\")     \n",
    "print(f\"Jumlah huruf u : {vokal_u}\")        \n",
    "print(f\"Jumlah huruf e : {vokal_e}\")    \n",
    "print(f\"Jumlah huruf o : {vokal_o}\")        \n",
    "\n",
    "total = vokal_a + vokal_i + vokal_u + vokal_e + vokal_o\n",
    "print(f\"Total keseluruhan huruf vokal : {total}\")"
   ]
  },
  {
   "cell_type": "code",
   "execution_count": 24,
   "id": "07615d64",
   "metadata": {},
   "outputs": [
    {
     "name": "stdout",
     "output_type": "stream",
     "text": [
      "Isikan kalimat : kanan\n",
      "BUKAN PALINDROME\n",
      "Apakah ingin mengulang program ? (Y/T) : t\n",
      "Apakah ingin mengulang program ? (Y/T) : t\n",
      "Apakah ingin mengulang program ? (Y/T) : t\n",
      "Apakah ingin mengulang program ? (Y/T) : t\n",
      "Apakah ingin mengulang program ? (Y/T) : t\n",
      "Apakah ingin mengulang program ? (Y/T) : Y\n",
      "Isikan kalimat : kanan\n",
      "BUKAN PALINDROME\n",
      "Apakah ingin mengulang program ? (Y/T) : T\n"
     ]
    }
   ],
   "source": [
    "# Kalimat palindrome atau bukan \n",
    "# Palindrome adalah kalimat yang dibaca dari diri ke kanan == kanan ke kiri\n",
    "# katak => palindrome\n",
    "# kasur rusak\n",
    "ulang = \"Y\"\n",
    "while(ulang ==\"Y\"):\n",
    "    kalimat = input(\"Isikan kalimat : \")\n",
    "    panjang_kalimat = len(kalimat)\n",
    "    keterangan = \"PALINDROME\"\n",
    "    for i in range(0, panjang_kalimat):\n",
    "        kika = kalimat[i].lower()\n",
    "        kaki = kalimat[panjang_kalimat - i - 1].lower()\n",
    "        if kika != kaki:\n",
    "            keterangan = \"BUKAN PALINDROME\"   \n",
    "            break\n",
    "    print(f\"{keterangan}\")        \n",
    "    jawab = \"\"\n",
    "    while(jawab!=\"Y\" and jawab !=\"T\"):\n",
    "        jawab = input(\"Apakah ingin mengulang program ? (Y/T) : \")\n",
    "    ulang = jawab    "
   ]
  },
  {
   "cell_type": "code",
   "execution_count": null,
   "id": "0ac823bf",
   "metadata": {},
   "outputs": [],
   "source": []
  }
 ],
 "metadata": {
  "kernelspec": {
   "display_name": "Python 3 (ipykernel)",
   "language": "python",
   "name": "python3"
  },
  "language_info": {
   "codemirror_mode": {
    "name": "ipython",
    "version": 3
   },
   "file_extension": ".py",
   "mimetype": "text/x-python",
   "name": "python",
   "nbconvert_exporter": "python",
   "pygments_lexer": "ipython3",
   "version": "3.9.12"
  }
 },
 "nbformat": 4,
 "nbformat_minor": 5
}
